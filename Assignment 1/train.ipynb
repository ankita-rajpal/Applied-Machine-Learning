{
 "cells": [
  {
   "cell_type": "markdown",
   "metadata": {},
   "source": [
    "# 0. Imports"
   ]
  },
  {
   "cell_type": "code",
   "execution_count": 4,
   "metadata": {},
   "outputs": [],
   "source": [
    "import os\n",
    "\n",
    "# for data handling\n",
    "import pandas as pd\n",
    "import numpy as np\n",
    "\n",
    "# for plotting\n",
    "import matplotlib.pyplot as plt\n",
    "\n",
    "# for classifiers\n",
    "from sklearn.linear_model import LogisticRegression\n",
    "from sklearn.ensemble import RandomForestClassifier\n",
    "from sklearn.svm import SVC\n",
    "\n",
    "# for evaluation purposes\n",
    "from sklearn.metrics import confusion_matrix, precision_recall_curve, precision_score, recall_score, classification_report, ConfusionMatrixDisplay, make_scorer\n",
    "\n",
    "# for custom gridsearch\n",
    "from itertools import product\n",
    "\n",
    "# for handling loops\n",
    "from tqdm import tqdm\n",
    "\n",
    "# for oversampling\n",
    "from imblearn.over_sampling import SMOTE, RandomOverSampler\n",
    "\n",
    "# for saving the models\n",
    "import joblib"
   ]
  },
  {
   "cell_type": "markdown",
   "metadata": {},
   "source": [
    "# 1. Load Train, Val, Test Data"
   ]
  },
  {
   "cell_type": "code",
   "execution_count": 7,
   "metadata": {},
   "outputs": [
    {
     "data": {
      "text/plain": [
       "['data\\\\train.csv', 'data\\\\val.csv', 'data\\\\test.csv']"
      ]
     },
     "execution_count": 7,
     "metadata": {},
     "output_type": "execute_result"
    }
   ],
   "source": [
    "# train, val, test save_paths\n",
    "\n",
    "data_train_save_path = os.path.join('data','train.csv')\n",
    "data_val_save_path = os.path.join('data','val.csv')\n",
    "data_test_save_path = os.path.join('data','test.csv')\n",
    "\n",
    "train_val_test_save_paths = [data_train_save_path, data_val_save_path, data_test_save_path]\n",
    "\n",
    "train_val_test_save_paths"
   ]
  },
  {
   "cell_type": "code",
   "execution_count": 5,
   "metadata": {},
   "outputs": [],
   "source": [
    "def load_train_val_test(train_val_test_save_paths, oversampler=None):\n",
    "    # extract the dataframes\n",
    "    train_data = pd.read_csv(train_val_test_save_paths[0])\n",
    "    val_data = pd.read_csv(train_val_test_save_paths[1])\n",
    "    test_data = pd.read_csv(train_val_test_save_paths[2])\n",
    "    \n",
    "    # split the data into features, labels\n",
    "    y_train = train_data['label']\n",
    "    X_train = train_data.drop('label', axis=1)\n",
    "\n",
    "    # oversample the training data\n",
    "    if oversampler:\n",
    "        X_train, y_train = oversampler.fit_resample(X_train, y_train)\n",
    "\n",
    "\n",
    "    y_val = val_data['label']\n",
    "    X_val = val_data.drop('label', axis=1)\n",
    "\n",
    "    y_test = test_data['label']\n",
    "    X_test = test_data.drop('label', axis=1)\n",
    "\n",
    "    return X_train, X_val, X_test, y_train, y_val ,y_test"
   ]
  },
  {
   "cell_type": "code",
   "execution_count": 8,
   "metadata": {},
   "outputs": [
    {
     "name": "stdout",
     "output_type": "stream",
     "text": [
      "Training Data Shape: (6530, 8444)\n",
      "Validation Data Shape: (948, 8444)\n",
      "Test Data Shape: (836, 8444)\n"
     ]
    }
   ],
   "source": [
    "# define an oversampler\n",
    "smote = SMOTE(random_state=42)\n",
    "\n",
    "X_train, X_val, X_test, y_train, y_val ,y_test = load_train_val_test(train_val_test_save_paths, oversampler=smote)\n",
    "\n",
    "print(\"Training Data Shape:\", X_train.shape)\n",
    "print(\"Validation Data Shape:\", X_val.shape)\n",
    "print(\"Test Data Shape:\", X_test.shape)"
   ]
  },
  {
   "cell_type": "markdown",
   "metadata": {},
   "source": [
    "# 2. Model Fit and Validation\n",
    "\n",
    "While fitting the model to the training data, we go over various hyper-parameters and select the model which has the best `precision_score` amongst all the models.\n",
    "\n",
    "We choose to give importance to `precision_score` because reducing **False Positives** should be our first priority, as we wouldn't want important (or any) `non-spam` text to be flagged as `spam`."
   ]
  },
  {
   "cell_type": "code",
   "execution_count": 9,
   "metadata": {},
   "outputs": [],
   "source": [
    "def train_model(X_train, X_val, y_train, y_val, classifier, param_grid):\n",
    "    \n",
    "    # init best model\n",
    "    best_model = classifier\n",
    "    \n",
    "    # best precision\n",
    "    best_precision = 0.0\n",
    "\n",
    "    # make param_list by considering set products of params\n",
    "    param_list = list(product(*param_grid.values()))\n",
    "\n",
    "    for param in param_list:\n",
    "        param_dict = dict(zip(param_grid.keys(), param))\n",
    "        \n",
    "        # init model with these params\n",
    "        model = classifier.set_params(**param_dict)\n",
    "        # fit the model on train data\n",
    "        model.fit(X_train, y_train)\n",
    "\n",
    "        # evaluate the model on val data\n",
    "        y_val_hat = model.predict(X_val)\n",
    "        # calculate precision\n",
    "        current_precision = precision_score(y_val, y_val_hat, average='micro')\n",
    "\n",
    "        # update model, score based on val precision\n",
    "        if current_precision > best_precision:\n",
    "            best_precision = current_precision\n",
    "            best_model = model\n",
    "            \n",
    "            print(\"Current Best Precision on Val: %.3f\" % best_precision)\n",
    "    \n",
    "    # print the best classifier\n",
    "    print(\"Overall Best Model:\", best_model)\n",
    "    print(\"Overall Best Precision on Val: %.3f\" % best_precision)\n",
    "\n",
    "    return best_model"
   ]
  },
  {
   "cell_type": "markdown",
   "metadata": {},
   "source": [
    "## 2.1 `LogisticRegression`"
   ]
  },
  {
   "cell_type": "code",
   "execution_count": 17,
   "metadata": {},
   "outputs": [
    {
     "name": "stdout",
     "output_type": "stream",
     "text": [
      "Current Best Precision on Val: 0.877\n",
      "Current Best Precision on Val: 0.935\n",
      "Current Best Precision on Val: 0.978\n",
      "Current Best Precision on Val: 0.983\n",
      "Current Best Precision on Val: 0.984\n",
      "Overall Best Model: LogisticRegression(C=10, max_iter=500, solver='liblinear')\n",
      "Overall Best Precision on Val: 0.984\n"
     ]
    }
   ],
   "source": [
    "classifier = LogisticRegression()\n",
    "\n",
    "# define the parameter search space for gridsearch\n",
    "\n",
    "param_grid = {'penalty': ['l1', 'l2'],\n",
    "              'C': [0.001, 0.01, 0.1, 1, 10],\n",
    "              'solver': ['liblinear'],\n",
    "              'max_iter': [100, 200, 500]}\n",
    "\n",
    "best_logit = train_model(\n",
    "                            X_train=X_train,\n",
    "                            X_val=X_val,\n",
    "                            y_train=y_train,\n",
    "                            y_val=y_val,\n",
    "                            classifier=classifier,\n",
    "                            param_grid=param_grid\n",
    "                            )"
   ]
  },
  {
   "cell_type": "markdown",
   "metadata": {},
   "source": [
    "Best model: `LogisticRegression(C=10, max_iter=500, solver='liblinear')`"
   ]
  },
  {
   "cell_type": "markdown",
   "metadata": {},
   "source": [
    "## 2.2 `RandomForestClassifier`"
   ]
  },
  {
   "cell_type": "code",
   "execution_count": 18,
   "metadata": {},
   "outputs": [
    {
     "name": "stdout",
     "output_type": "stream",
     "text": [
      "Current Best Precision on Val: 0.960\n",
      "Current Best Precision on Val: 0.963\n",
      "Current Best Precision on Val: 0.969\n",
      "Current Best Precision on Val: 0.974\n",
      "Overall Best Model: RandomForestClassifier(max_depth=15, max_features='log2', min_samples_leaf=4,\n",
      "                       min_samples_split=10, n_estimators=200)\n",
      "Overall Best Precision on Val: 0.974\n"
     ]
    }
   ],
   "source": [
    "classifier = RandomForestClassifier()\n",
    "\n",
    "# define the parameter search space for gridsearch\n",
    "\n",
    "param_grid = {\n",
    "    'n_estimators': [50, 100, 200],\n",
    "    'max_depth': [5, 10, 15],\n",
    "    'min_samples_split': [2, 5, 10],\n",
    "    'min_samples_leaf': [1, 2, 4],\n",
    "    'max_features': ['sqrt', 'log2']\n",
    "}\n",
    "\n",
    "best_rfc = train_model(\n",
    "                            X_train=X_train,\n",
    "                            X_val=X_val,\n",
    "                            y_train=y_train,\n",
    "                            y_val=y_val,\n",
    "                            classifier=classifier,\n",
    "                            param_grid=param_grid\n",
    "                            )"
   ]
  },
  {
   "cell_type": "markdown",
   "metadata": {},
   "source": [
    "Best model: `RandomForestClassifier(max_depth=15, max_features='log2', min_samples_leaf=4, min_samples_split=10, n_estimators=200)`"
   ]
  },
  {
   "cell_type": "markdown",
   "metadata": {},
   "source": [
    "## 2.3 `SupportVectorClassifier`"
   ]
  },
  {
   "cell_type": "code",
   "execution_count": null,
   "metadata": {},
   "outputs": [
    {
     "name": "stdout",
     "output_type": "stream",
     "text": [
      "Current Best Precision on Val: 0.939\n",
      "Current Best Precision on Val: 0.976\n",
      "Overall Best Model: SVC(C=10.0)\n",
      "Overall Best Precision on Val: 0.976\n"
     ]
    }
   ],
   "source": [
    "classifier = SVC()\n",
    "\n",
    "# define the parameter search space for gridsearch\n",
    "\n",
    "param_grid = {'C': [0.1, 1.0, 10.0]  # Regularization parameter\n",
    "              }\n",
    "\n",
    "best_svc = train_model(\n",
    "                            X_train=X_train,\n",
    "                            X_val=X_val,\n",
    "                            y_train=y_train,\n",
    "                            y_val=y_val,\n",
    "                            classifier=classifier,\n",
    "                            param_grid=param_grid\n",
    "                            )"
   ]
  },
  {
   "cell_type": "markdown",
   "metadata": {},
   "source": [
    "# 3. Model Evaluation\n",
    "\n",
    "We check the performance of our models on Test Data."
   ]
  },
  {
   "cell_type": "markdown",
   "metadata": {},
   "source": [
    "## 3.1 `LogisticRegression`"
   ]
  },
  {
   "cell_type": "code",
   "execution_count": 19,
   "metadata": {},
   "outputs": [
    {
     "data": {
      "image/png": "[encoded data removed]",
      "text/plain": [
       "<Figure size 640x480 with 2 Axes>"
      ]
     },
     "metadata": {},
     "output_type": "display_data"
    },
    {
     "name": "stdout",
     "output_type": "stream",
     "text": [
      "              precision    recall  f1-score   support\n",
      "\n",
      "           0       0.98      1.00      0.99       729\n",
      "           1       0.97      0.89      0.93       107\n",
      "\n",
      "    accuracy                           0.98       836\n",
      "   macro avg       0.98      0.94      0.96       836\n",
      "weighted avg       0.98      0.98      0.98       836\n",
      "\n"
     ]
    }
   ],
   "source": [
    "y_test_hat = best_logit.predict(X_test)\n",
    "\n",
    "# show confusion matrix\n",
    "cm_display = ConfusionMatrixDisplay.from_predictions(y_test, y_test_hat, values_format='.5g')\n",
    "plt.title(\"Logistic Regression\")\n",
    "plt.show()\n",
    "\n",
    "# print the classification report\n",
    "print(classification_report(y_test, y_test_hat))"
   ]
  },
  {
   "cell_type": "markdown",
   "metadata": {},
   "source": [
    "## 3.2 `RandomForestClassifier`"
   ]
  },
  {
   "cell_type": "code",
   "execution_count": 20,
   "metadata": {},
   "outputs": [
    {
     "data": {
      "image/png": "[encoded data removed]",
      "text/plain": [
       "<Figure size 640x480 with 2 Axes>"
      ]
     },
     "metadata": {},
     "output_type": "display_data"
    },
    {
     "name": "stdout",
     "output_type": "stream",
     "text": [
      "              precision    recall  f1-score   support\n",
      "\n",
      "           0       0.95      1.00      0.97       729\n",
      "           1       1.00      0.61      0.76       107\n",
      "\n",
      "    accuracy                           0.95       836\n",
      "   macro avg       0.97      0.80      0.86       836\n",
      "weighted avg       0.95      0.95      0.94       836\n",
      "\n"
     ]
    }
   ],
   "source": [
    "y_test_hat = best_rfc.predict(X_test)\n",
    "\n",
    "# show confusion matrix\n",
    "cm_display = ConfusionMatrixDisplay.from_predictions(y_test, y_test_hat, values_format='.5g')\n",
    "plt.title(\"Random Forest Classifier\")\n",
    "plt.show()\n",
    "\n",
    "# print the classification report\n",
    "print(classification_report(y_test, y_test_hat))"
   ]
  },
  {
   "cell_type": "markdown",
   "metadata": {},
   "source": [
    "## 3.3 `SupportVectorClassifier`"
   ]
  },
  {
   "cell_type": "code",
   "execution_count": 16,
   "metadata": {},
   "outputs": [
    {
     "data": {
      "image/png": "[encoded data removed]",
      "text/plain": [
       "<Figure size 640x480 with 2 Axes>"
      ]
     },
     "metadata": {},
     "output_type": "display_data"
    },
    {
     "name": "stdout",
     "output_type": "stream",
     "text": [
      "              precision    recall  f1-score   support\n",
      "\n",
      "           0       0.97      1.00      0.99       729\n",
      "           1       1.00      0.79      0.89       107\n",
      "\n",
      "    accuracy                           0.97       836\n",
      "   macro avg       0.99      0.90      0.94       836\n",
      "weighted avg       0.97      0.97      0.97       836\n",
      "\n"
     ]
    }
   ],
   "source": [
    "y_test_hat = best_svc.predict(X_test)\n",
    "\n",
    "# show confusion matrix\n",
    "cm_display = ConfusionMatrixDisplay.from_predictions(y_test, y_test_hat, values_format='.5g')\n",
    "plt.title(\"Gradient Boosting Classifier\")\n",
    "plt.show()\n",
    "\n",
    "# print the classification report\n",
    "print(classification_report(y_test, y_test_hat))"
   ]
  },
  {
   "cell_type": "markdown",
   "metadata": {},
   "source": [
    "# Conclusion:\n",
    "Among the three models, \n",
    "```Python\n",
    "Logistic Regression (C=10, max_iter=500, solver='liblinear')\n",
    "```\n",
    "\n",
    "demonstrated the best overall performance. It achieved the highest precision on validation data (0.984) and balanced recall, F1-score, and accuracy effectively.\n",
    "\n",
    "`Logistic Regression` showed the best recall (0.89) for the spam class (1) while maintaining high precision (0.97), leading to a strong F1-score (0.93). This suggests that it effectively captures spam emails without significantly misclassifying non-spam messages.\n",
    "`Random Forest Classifier` had the highest precision for spam (1.00) but suffered from poor recall (0.61), indicating that it failed to correctly classify many spam emails.\n",
    "`SVC` performed well but had slightly lower recall (0.79) for spam compared to `Logistic Regression`, making it less effective in identifying all spam messages.\n",
    "Given the importance of both precision and recall in a spam classification task (to minimize false positives and false negatives), `Logistic Regression` emerges as the best model, offering a strong balance between both metrics while maintaining high accuracy (0.98)."
   ]
  }
 ],
 "metadata": {
  "kernelspec": {
   "display_name": ".venv",
   "language": "python",
   "name": "python3"
  },
  "language_info": {
   "codemirror_mode": {
    "name": "ipython",
    "version": 3
   },
   "file_extension": ".py",
   "mimetype": "text/x-python",
   "name": "python",
   "nbconvert_exporter": "python",
   "pygments_lexer": "ipython3",
   "version": "3.12.3"
  },
  "orig_nbformat": 4
 },
 "nbformat": 4,
 "nbformat_minor": 2
}
